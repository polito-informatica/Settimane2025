{
 "cells": [
  {
   "cell_type": "code",
   "execution_count": null,
   "id": "c4b10379",
   "metadata": {},
   "outputs": [],
   "source": [
    "nome1 = \"John Waine\""
   ]
  },
  {
   "cell_type": "code",
   "execution_count": null,
   "id": "ca7b0bff",
   "metadata": {},
   "outputs": [],
   "source": [
    "nome2 = \"John waine\""
   ]
  },
  {
   "cell_type": "code",
   "execution_count": null,
   "id": "4e5c9e17",
   "metadata": {},
   "outputs": [
    {
     "data": {
      "text/plain": [
       "False\n"
      ]
     },
     "metadata": {},
     "output_type": "display_data"
    }
   ],
   "source": [
    "nome1 == nome2"
   ]
  },
  {
   "cell_type": "code",
   "execution_count": null,
   "id": "1ed4b492",
   "metadata": {},
   "outputs": [
    {
     "data": {
      "text/plain": [
       "JOHN WAINE\n"
      ]
     },
     "metadata": {},
     "output_type": "display_data"
    }
   ],
   "source": [
    "nome2.upper()"
   ]
  },
  {
   "cell_type": "code",
   "execution_count": null,
   "id": "72631071",
   "metadata": {},
   "outputs": [
    {
     "data": {
      "text/plain": [
       "True\n"
      ]
     },
     "metadata": {},
     "output_type": "display_data"
    }
   ],
   "source": [
    "nome1.upper() == nome2.upper()"
   ]
  },
  {
   "cell_type": "code",
   "execution_count": null,
   "id": "edad388b",
   "metadata": {},
   "outputs": [
    {
     "data": {
      "text/plain": [
       "John Waine\n"
      ]
     },
     "metadata": {},
     "output_type": "display_data"
    }
   ],
   "source": [
    "nome1"
   ]
  },
  {
   "cell_type": "code",
   "execution_count": null,
   "id": "bdc8dc24",
   "metadata": {},
   "outputs": [],
   "source": [
    "import math"
   ]
  },
  {
   "cell_type": "code",
   "execution_count": null,
   "id": "2061ea64",
   "metadata": {},
   "outputs": [],
   "source": [
    "r = math.sqrt(2.0)"
   ]
  },
  {
   "cell_type": "code",
   "execution_count": null,
   "id": "8d5cf758",
   "metadata": {},
   "outputs": [
    {
     "data": {
      "text/plain": [
       "1.4142135623730951\n"
      ]
     },
     "metadata": {},
     "output_type": "display_data"
    }
   ],
   "source": [
    "r"
   ]
  },
  {
   "cell_type": "code",
   "execution_count": null,
   "id": "7b1e9195",
   "metadata": {},
   "outputs": [
    {
     "data": {
      "text/plain": [
       "2.0000000000000004\n"
      ]
     },
     "metadata": {},
     "output_type": "display_data"
    }
   ],
   "source": [
    "r * r"
   ]
  },
  {
   "cell_type": "code",
   "execution_count": null,
   "id": "20ca54b8",
   "metadata": {},
   "outputs": [],
   "source": [
    "r2 = r*r"
   ]
  },
  {
   "cell_type": "code",
   "execution_count": null,
   "id": "f8f5df0d",
   "metadata": {},
   "outputs": [
    {
     "data": {
      "text/plain": [
       "False\n"
      ]
     },
     "metadata": {},
     "output_type": "display_data"
    }
   ],
   "source": [
    "r2 == 2.0"
   ]
  },
  {
   "cell_type": "code",
   "execution_count": null,
   "id": "46446363",
   "metadata": {},
   "outputs": [
    {
     "data": {
      "text/plain": [
       "True\n"
      ]
     },
     "metadata": {},
     "output_type": "display_data"
    }
   ],
   "source": [
    "math.isclose(r2, 2.0)"
   ]
  },
  {
   "cell_type": "code",
   "execution_count": null,
   "id": "09d6bfed",
   "metadata": {},
   "outputs": [
    {
     "data": {
      "text/plain": [
       "False\n"
      ]
     },
     "metadata": {},
     "output_type": "display_data"
    }
   ],
   "source": [
    "math.isclose(r2, 2.1)"
   ]
  },
  {
   "cell_type": "code",
   "execution_count": null,
   "id": "9eb0ebb6",
   "metadata": {},
   "outputs": [
    {
     "data": {
      "text/plain": [
       "Traceback (most recent call last):\n",
       "  File \"/Users/fcorno/.vscode/extensions/ms-python.python-2025.14.0-darwin-arm64/python_files/python_server.py\", line 133, in exec_user_input\n",
       "    retval = callable_(user_input, user_globals)\n",
       "  File \"<string>\", line 1, in <module>\n",
       "NameError: name 'abs_tol' is not defined\n",
       "\n"
      ]
     },
     "metadata": {},
     "output_type": "display_data"
    }
   ],
   "source": [
    "math.isclose(r2, 2.1, abs_tol)"
   ]
  },
  {
   "cell_type": "code",
   "execution_count": null,
   "id": "8325620f",
   "metadata": {},
   "outputs": [
    {
     "data": {
      "text/plain": [
       "True\n"
      ]
     },
     "metadata": {},
     "output_type": "display_data"
    }
   ],
   "source": [
    "math.isclose(r2, 2.1, abs_tol=0.2)"
   ]
  },
  {
   "cell_type": "code",
   "execution_count": null,
   "id": "b82b4cc0",
   "metadata": {},
   "outputs": [
    {
     "data": {
      "text/plain": [
       "Traceback (most recent call last):\n",
       "  File \"/Users/fcorno/.vscode/extensions/ms-python.python-2025.14.0-darwin-arm64/python_files/python_server.py\", line 133, in exec_user_input\n",
       "    retval = callable_(user_input, user_globals)\n",
       "  File \"<string>\", line 1, in <module>\n",
       "NameError: name 'name1' is not defined. Did you mean: 'nome1'?\n",
       "\n"
      ]
     },
     "metadata": {},
     "output_type": "display_data"
    }
   ],
   "source": [
    "name1"
   ]
  },
  {
   "cell_type": "code",
   "execution_count": null,
   "id": "ae20f9dc",
   "metadata": {},
   "outputs": [
    {
     "data": {
      "text/plain": [
       "John Waine\n"
      ]
     },
     "metadata": {},
     "output_type": "display_data"
    }
   ],
   "source": [
    "nome1"
   ]
  },
  {
   "cell_type": "code",
   "execution_count": null,
   "id": "0cc745bb",
   "metadata": {},
   "outputs": [
    {
     "data": {
      "text/plain": [
       "John waine\n"
      ]
     },
     "metadata": {},
     "output_type": "display_data"
    }
   ],
   "source": [
    "nome2"
   ]
  },
  {
   "cell_type": "code",
   "execution_count": null,
   "id": "79e11427",
   "metadata": {},
   "outputs": [
    {
     "data": {
      "text/plain": [
       "True\n"
      ]
     },
     "metadata": {},
     "output_type": "display_data"
    }
   ],
   "source": [
    "nome1 < nome2 "
   ]
  },
  {
   "cell_type": "code",
   "execution_count": null,
   "id": "6c80f3e8",
   "metadata": {},
   "outputs": [
    {
     "data": {
      "text/plain": [
       "True\n"
      ]
     },
     "metadata": {},
     "output_type": "display_data"
    }
   ],
   "source": [
    "'W' < 'w'"
   ]
  },
  {
   "cell_type": "code",
   "execution_count": null,
   "id": "42c7efe7",
   "metadata": {},
   "outputs": [
    {
     "data": {
      "text/plain": [
       "87\n"
      ]
     },
     "metadata": {},
     "output_type": "display_data"
    }
   ],
   "source": [
    "ord('W')"
   ]
  },
  {
   "cell_type": "code",
   "execution_count": null,
   "id": "92c3e832",
   "metadata": {},
   "outputs": [
    {
     "data": {
      "text/plain": [
       "119\n"
      ]
     },
     "metadata": {},
     "output_type": "display_data"
    }
   ],
   "source": [
    "ord('w')"
   ]
  },
  {
   "cell_type": "code",
   "execution_count": null,
   "id": "c762ff7e",
   "metadata": {},
   "outputs": [
    {
     "data": {
      "text/plain": [
       "True\n"
      ]
     },
     "metadata": {},
     "output_type": "display_data"
    }
   ],
   "source": [
    "'John Waine' < 'joHN waINE'"
   ]
  },
  {
   "cell_type": "code",
   "execution_count": null,
   "id": "4db499b6",
   "metadata": {},
   "outputs": [
    {
     "data": {
      "text/plain": [
       "False\n"
      ]
     },
     "metadata": {},
     "output_type": "display_data"
    }
   ],
   "source": [
    "'John Waine' < 'JoHN waINE'"
   ]
  },
  {
   "cell_type": "code",
   "execution_count": null,
   "id": "b5266098",
   "metadata": {},
   "outputs": [
    {
     "data": {
      "text/plain": [
       "John Waine\n"
      ]
     },
     "metadata": {},
     "output_type": "display_data"
    }
   ],
   "source": [
    "nome1"
   ]
  },
  {
   "cell_type": "code",
   "execution_count": null,
   "id": "c5e7a09b",
   "metadata": {},
   "outputs": [],
   "source": [
    "nome2 = 'John Uaine'"
   ]
  },
  {
   "cell_type": "code",
   "execution_count": null,
   "id": "2091a6fb",
   "metadata": {},
   "outputs": [],
   "source": [
    "nome2 = 'John Uain'"
   ]
  },
  {
   "cell_type": "code",
   "execution_count": null,
   "id": "0f827bcb",
   "metadata": {},
   "outputs": [],
   "source": [
    "nome2 = 'JOHN UAIN'"
   ]
  },
  {
   "cell_type": "code",
   "execution_count": null,
   "id": "33245070",
   "metadata": {},
   "outputs": [],
   "source": [
    "# dimmi se nome1 e nome2 sono uguali, considerando SOLO il nome ed ignorando le maiuscole"
   ]
  },
  {
   "cell_type": "code",
   "execution_count": null,
   "id": "3b178470",
   "metadata": {},
   "outputs": [
    {
     "data": {
      "text/plain": [
       "John Waine\n"
      ]
     },
     "metadata": {},
     "output_type": "display_data"
    }
   ],
   "source": [
    "nome1"
   ]
  },
  {
   "cell_type": "code",
   "execution_count": null,
   "id": "e7b1ab36",
   "metadata": {},
   "outputs": [
    {
     "data": {
      "text/plain": [
       "JOHN UAIN\n"
      ]
     },
     "metadata": {},
     "output_type": "display_data"
    }
   ],
   "source": [
    "nome2"
   ]
  },
  {
   "cell_type": "code",
   "execution_count": null,
   "id": "3cce881c",
   "metadata": {},
   "outputs": [
    {
     "data": {
      "text/plain": [
       "John\n"
      ]
     },
     "metadata": {},
     "output_type": "display_data"
    }
   ],
   "source": [
    "nome1[:4]"
   ]
  },
  {
   "cell_type": "code",
   "execution_count": null,
   "id": "a9501a88",
   "metadata": {},
   "outputs": [
    {
     "data": {
      "text/plain": [
       "John Waine\n"
      ]
     },
     "metadata": {},
     "output_type": "display_data"
    }
   ],
   "source": [
    "nome1"
   ]
  },
  {
   "cell_type": "code",
   "execution_count": null,
   "id": "3589f89d",
   "metadata": {},
   "outputs": [
    {
     "data": {
      "text/plain": [
       "0\n"
      ]
     },
     "metadata": {},
     "output_type": "display_data"
    }
   ],
   "source": [
    "nome1.index('J')"
   ]
  },
  {
   "cell_type": "code",
   "execution_count": null,
   "id": "e24e0eae",
   "metadata": {},
   "outputs": [
    {
     "data": {
      "text/plain": [
       "5\n"
      ]
     },
     "metadata": {},
     "output_type": "display_data"
    }
   ],
   "source": [
    "nome1.index('W')"
   ]
  },
  {
   "cell_type": "code",
   "execution_count": null,
   "id": "d73d05fa",
   "metadata": {},
   "outputs": [
    {
     "data": {
      "text/plain": [
       "5\n"
      ]
     },
     "metadata": {},
     "output_type": "display_data"
    }
   ],
   "source": [
    "nome1.index('Wa')"
   ]
  },
  {
   "cell_type": "code",
   "execution_count": null,
   "id": "ed995390",
   "metadata": {},
   "outputs": [
    {
     "data": {
      "text/plain": [
       "Traceback (most recent call last):\n",
       "  File \"/Users/fcorno/.vscode/extensions/ms-python.python-2025.14.0-darwin-arm64/python_files/python_server.py\", line 133, in exec_user_input\n",
       "    retval = callable_(user_input, user_globals)\n",
       "  File \"<string>\", line 1, in <module>\n",
       "ValueError: substring not found\n",
       "\n"
      ]
     },
     "metadata": {},
     "output_type": "display_data"
    }
   ],
   "source": [
    "nome1.index('w')"
   ]
  },
  {
   "cell_type": "code",
   "execution_count": null,
   "id": "61bdfe8a",
   "metadata": {},
   "outputs": [
    {
     "data": {
      "text/plain": [
       "0\n"
      ]
     },
     "metadata": {},
     "output_type": "display_data"
    }
   ],
   "source": [
    "nome1.find('J')"
   ]
  },
  {
   "cell_type": "code",
   "execution_count": null,
   "id": "612acae1",
   "metadata": {},
   "outputs": [
    {
     "data": {
      "text/plain": [
       "5\n"
      ]
     },
     "metadata": {},
     "output_type": "display_data"
    }
   ],
   "source": [
    "nome1.find('W')"
   ]
  },
  {
   "cell_type": "code",
   "execution_count": null,
   "id": "63723cf0",
   "metadata": {},
   "outputs": [
    {
     "data": {
      "text/plain": [
       "-1\n"
      ]
     },
     "metadata": {},
     "output_type": "display_data"
    }
   ],
   "source": [
    "nome1.find('w')"
   ]
  },
  {
   "cell_type": "code",
   "execution_count": null,
   "id": "efb463bd",
   "metadata": {},
   "outputs": [
    {
     "data": {
      "text/plain": [
       "4\n"
      ]
     },
     "metadata": {},
     "output_type": "display_data"
    }
   ],
   "source": [
    "nome1.find(' ')"
   ]
  },
  {
   "cell_type": "code",
   "execution_count": null,
   "id": "f8f357cf",
   "metadata": {},
   "outputs": [
    {
     "data": {
      "text/plain": [
       "John\n"
      ]
     },
     "metadata": {},
     "output_type": "display_data"
    }
   ],
   "source": [
    "nome1[ 0 : nome1.find(' ') ]"
   ]
  },
  {
   "cell_type": "code",
   "execution_count": null,
   "id": "19118447",
   "metadata": {},
   "outputs": [
    {
     "data": {
      "text/plain": [
       "JOHN\n"
      ]
     },
     "metadata": {},
     "output_type": "display_data"
    }
   ],
   "source": [
    "nome2[ 0 : nome2.find(' ') ]"
   ]
  },
  {
   "cell_type": "code",
   "execution_count": null,
   "id": "f0ca68c1",
   "metadata": {},
   "outputs": [],
   "source": [
    "nome1 = 'Pier Paolo Waine'"
   ]
  },
  {
   "cell_type": "code",
   "execution_count": null,
   "id": "e6b3f9c4",
   "metadata": {},
   "outputs": [
    {
     "data": {
      "text/plain": [
       "Pier\n"
      ]
     },
     "metadata": {},
     "output_type": "display_data"
    }
   ],
   "source": [
    "nome1[ 0 : nome1.find(' ') ]"
   ]
  },
  {
   "cell_type": "code",
   "execution_count": null,
   "id": "9016833d",
   "metadata": {},
   "outputs": [],
   "source": [
    "nome1 = 'Nosferatu'"
   ]
  },
  {
   "cell_type": "code",
   "execution_count": null,
   "id": "1ea26234",
   "metadata": {},
   "outputs": [
    {
     "data": {
      "text/plain": [
       "-1\n"
      ]
     },
     "metadata": {},
     "output_type": "display_data"
    }
   ],
   "source": [
    "nome1.find(' ') "
   ]
  },
  {
   "cell_type": "code",
   "execution_count": null,
   "id": "3c53be72",
   "metadata": {},
   "outputs": [
    {
     "data": {
      "text/plain": [
       "Nosferat\n"
      ]
     },
     "metadata": {},
     "output_type": "display_data"
    }
   ],
   "source": [
    "nome1 [ 0: -1 ]"
   ]
  },
  {
   "cell_type": "code",
   "execution_count": null,
   "id": "cfdff95e",
   "metadata": {},
   "outputs": [
    {
     "data": {
      "text/plain": [
       "Nosferatu\n"
      ]
     },
     "metadata": {},
     "output_type": "display_data"
    }
   ],
   "source": [
    "if nome1.find(' ') == -1:\n",
    "    print(nome1)\n",
    "else:\n",
    "    print(nome1[ 0 : nome1.find(' ') ])"
   ]
  },
  {
   "cell_type": "code",
   "execution_count": null,
   "id": "217b34a8",
   "metadata": {},
   "outputs": [],
   "source": [
    "nome1 = nome2"
   ]
  },
  {
   "cell_type": "code",
   "execution_count": null,
   "id": "8b5bd8e0",
   "metadata": {},
   "outputs": [
    {
     "data": {
      "text/plain": [
       "JOHN\n"
      ]
     },
     "metadata": {},
     "output_type": "display_data"
    }
   ],
   "source": [
    "if nome1.find(' ') == -1:\n",
    "    print(nome1)\n",
    "else:\n",
    "    print(nome1[ 0 : nome1.find(' ') ])"
   ]
  },
  {
   "cell_type": "code",
   "execution_count": null,
   "id": "5df11b9a",
   "metadata": {},
   "outputs": [],
   "source": [
    "nome1 = 'Nosferatu'"
   ]
  },
  {
   "cell_type": "code",
   "execution_count": null,
   "id": "7fccfc50",
   "metadata": {},
   "outputs": [],
   "source": [
    "nome1 = nome1 + ' '"
   ]
  },
  {
   "cell_type": "code",
   "execution_count": null,
   "id": "1953c1d1",
   "metadata": {},
   "outputs": [
    {
     "data": {
      "text/plain": [
       "Nosferatu \n"
      ]
     },
     "metadata": {},
     "output_type": "display_data"
    }
   ],
   "source": [
    "nome1"
   ]
  },
  {
   "cell_type": "code",
   "execution_count": null,
   "id": "8350ddbe",
   "metadata": {},
   "outputs": [
    {
     "data": {
      "text/plain": [
       "Nosferatu\n"
      ]
     },
     "metadata": {},
     "output_type": "display_data"
    }
   ],
   "source": [
    "nome1[ 0 : nome1.find(' ') ]"
   ]
  },
  {
   "cell_type": "code",
   "execution_count": null,
   "id": "3ddbd4e5",
   "metadata": {},
   "outputs": [],
   "source": [
    "nome1 = ' John Waine'"
   ]
  },
  {
   "cell_type": "code",
   "execution_count": null,
   "id": "87c5cbc0",
   "metadata": {},
   "outputs": [
    {
     "data": {
      "text/plain": [
       "\n"
      ]
     },
     "metadata": {},
     "output_type": "display_data"
    }
   ],
   "source": [
    "nome1[ 0 : nome1.find(' ') ]"
   ]
  },
  {
   "cell_type": "code",
   "execution_count": null,
   "id": "28f8017a",
   "metadata": {},
   "outputs": [],
   "source": [
    "s = nome1[ 0 : nome1.find(' ') ]"
   ]
  },
  {
   "cell_type": "code",
   "execution_count": null,
   "id": "dc4a07b6",
   "metadata": {},
   "outputs": [
    {
     "data": {
      "text/plain": [
       "0\n"
      ]
     },
     "metadata": {},
     "output_type": "display_data"
    }
   ],
   "source": [
    "len(s)"
   ]
  },
  {
   "cell_type": "code",
   "execution_count": null,
   "id": "6c5649e9",
   "metadata": {},
   "outputs": [
    {
     "data": {
      "text/plain": [
       "John Waine\n"
      ]
     },
     "metadata": {},
     "output_type": "display_data"
    }
   ],
   "source": [
    "nome1.strip()"
   ]
  },
  {
   "cell_type": "code",
   "execution_count": null,
   "id": "4c9cef41",
   "metadata": {},
   "outputs": [],
   "source": [
    "nome1 = nome1.strip()"
   ]
  },
  {
   "cell_type": "code",
   "execution_count": null,
   "id": "72171ee3",
   "metadata": {},
   "outputs": [],
   "source": [
    "s = (nome1.strip()+' ')[ 0 : (nome1.strip()+' ').find(' ') ]"
   ]
  },
  {
   "cell_type": "code",
   "execution_count": null,
   "id": "24760101",
   "metadata": {},
   "outputs": [],
   "source": []
  }
 ],
 "metadata": {
  "language_info": {
   "name": "python"
  }
 },
 "nbformat": 4,
 "nbformat_minor": 5
}
